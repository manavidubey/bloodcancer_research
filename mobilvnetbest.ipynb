{
 "cells": [
  {
   "cell_type": "code",
   "execution_count": 10,
   "metadata": {},
   "outputs": [],
   "source": [
    "import numpy as np\n",
    "import pandas as pd\n",
    "import matplotlib.pyplot as plt\n",
    "import tensorflow as tf\n",
    "import os\n",
    "import skimage.io\n",
    "import glob\n",
    "from tqdm import tqdm\n",
    "from skimage.io import imread, imshow\n",
    "from skimage.transform import resize\n",
    "from sklearn.utils import shuffle\n",
    "from tensorflow.keras.preprocessing.image import ImageDataGenerator\n",
    "from tensorflow.keras.models import Sequential, Model\n",
    "from tensorflow.keras.layers import InputLayer, Conv2D, BatchNormalization, MaxPool2D, Dropout, Flatten, Dense, GlobalAveragePooling2D\n",
    "from tensorflow.keras.callbacks import EarlyStopping, ModelCheckpoint"
   ]
  },
  {
   "cell_type": "code",
   "execution_count": 11,
   "metadata": {},
   "outputs": [],
   "source": [
    "train_dataset_0_all = glob.glob('./C-NMC_Leukemia/training_data/fold_0/all/*.bmp')\n",
    "train_dataset_0_hem = glob.glob('./C-NMC_Leukemia/training_data/fold_0/hem/*.bmp')\n",
    "train_dataset_1_all = glob.glob('./C-NMC_Leukemia/training_data/fold_1/all/*.bmp')\n",
    "train_dataset_1_hem = glob.glob('./C-NMC_Leukemia/training_data/fold_1/hem/*.bmp')\n",
    "train_dataset_2_all = glob.glob('./C-NMC_Leukemia/training_data/fold_2/all/*.bmp')\n",
    "train_dataset_2_hem = glob.glob('./C-NMC_Leukemia/training_data/fold_2/hem/*.bmp')\n",
    "\n",
    "valid_data = pd.read_csv('./C-NMC_Leukemia/validation_data/C-NMC_test_prelim_phase_data_labels.csv')\n"
   ]
  },
  {
   "cell_type": "code",
   "execution_count": 12,
   "metadata": {},
   "outputs": [],
   "source": [
    "A = []\n",
    "H = []\n",
    "\n",
    "A.extend(train_dataset_0_all)\n",
    "A.extend(train_dataset_1_all)\n",
    "A.extend(train_dataset_2_all)\n",
    "\n",
    "H.extend(train_dataset_0_hem)\n",
    "H.extend(train_dataset_1_hem)\n",
    "H.extend(train_dataset_2_hem)\n",
    "\n",
    "A = np.array(A)\n",
    "H = np.array(H)"
   ]
  },
  {
   "cell_type": "code",
   "execution_count": 13,
   "metadata": {},
   "outputs": [],
   "source": [
    "Image = []\n",
    "Label = []\n"
   ]
  },
  {
   "cell_type": "code",
   "execution_count": 14,
   "metadata": {},
   "outputs": [
    {
     "name": "stderr",
     "output_type": "stream",
     "text": [
      "100%|██████████| 7272/7272 [02:34<00:00, 47.03it/s]\n",
      "100%|██████████| 3389/3389 [01:12<00:00, 46.76it/s]\n"
     ]
    }
   ],
   "source": [
    "for i in tqdm(range(0, len(A))):\n",
    "    img = imread(A[i])\n",
    "    img = resize(img, (128, 128))\n",
    "    Image.append(img)\n",
    "    Label.append(1)\n",
    "for i in tqdm(range(0, len(H))):\n",
    "    img = imread(H[i])\n",
    "    img = resize(img, (128, 128))\n",
    "    Image.append(img)\n",
    "    Label.append(0)"
   ]
  },
  {
   "cell_type": "code",
   "execution_count": 15,
   "metadata": {},
   "outputs": [],
   "source": [
    "Image = np.array(Image)\n",
    "Label = np.array(Label)"
   ]
  },
  {
   "cell_type": "code",
   "execution_count": 16,
   "metadata": {},
   "outputs": [],
   "source": [
    "del A\n",
    "del H\n"
   ]
  },
  {
   "cell_type": "code",
   "execution_count": 17,
   "metadata": {},
   "outputs": [],
   "source": [
    "X = Image\n",
    "y = Label"
   ]
  },
  {
   "cell_type": "code",
   "execution_count": 18,
   "metadata": {},
   "outputs": [],
   "source": [
    "del Image\n",
    "del Label"
   ]
  },
  {
   "cell_type": "code",
   "execution_count": 19,
   "metadata": {},
   "outputs": [],
   "source": [
    "X_val = []\n",
    "\n",
    "for image_name in valid_data.new_names:\n",
    "    img = imread('./C-NMC_Leukemia/validation_data/C-NMC_test_prelim_phase_data/' + image_name)\n",
    "    img = resize(img, (128, 128))\n",
    "    X_val.append(img)"
   ]
  },
  {
   "cell_type": "code",
   "execution_count": 20,
   "metadata": {},
   "outputs": [],
   "source": [
    "X_val = np.array(X_val)\n",
    "y_val = valid_data.labels.values"
   ]
  },
  {
   "cell_type": "code",
   "execution_count": 21,
   "metadata": {},
   "outputs": [],
   "source": [
    "train_datagen = ImageDataGenerator(horizontal_flip=True, vertical_flip=True, zoom_range=0.2)\n",
    "train_datagen.fit(X)"
   ]
  },
  {
   "cell_type": "code",
   "execution_count": 22,
   "metadata": {},
   "outputs": [
    {
     "name": "stdout",
     "output_type": "stream",
     "text": [
      "Downloading data from https://storage.googleapis.com/tensorflow/keras-applications/mobilenet_v2/mobilenet_v2_weights_tf_dim_ordering_tf_kernels_1.0_128_no_top.h5\n",
      "9406464/9406464 [==============================] - 2s 0us/step\n"
     ]
    }
   ],
   "source": [
    "base_model = tf.keras.applications.MobileNetV2(weights='imagenet', include_top=False, input_shape=(128, 128, 3))\n",
    "\n",
    "for layer in base_model.layers:\n",
    "    layer.trainable = False\n",
    "\n",
    "x = base_model.output\n",
    "x = GlobalAveragePooling2D()(x)\n",
    "x = Dense(128, activation='relu')(x)\n",
    "x = Dropout(0.5)(x)\n",
    "predictions = Dense(1, activation='sigmoid')(x)"
   ]
  },
  {
   "cell_type": "code",
   "execution_count": 23,
   "metadata": {},
   "outputs": [],
   "source": [
    "model = Model(inputs=base_model.input, outputs=predictions)\n",
    "model.compile(optimizer='adam', loss='binary_crossentropy', metrics=['accuracy'])"
   ]
  },
  {
   "cell_type": "code",
   "execution_count": 24,
   "metadata": {},
   "outputs": [],
   "source": [
    "epochs = 10\n",
    "batch_size = 32"
   ]
  },
  {
   "cell_type": "code",
   "execution_count": 25,
   "metadata": {},
   "outputs": [
    {
     "name": "stdout",
     "output_type": "stream",
     "text": [
      "Epoch 1/10\n",
      "333/333 [==============================] - 124s 354ms/step - loss: 0.5026 - accuracy: 0.7791 - val_loss: 0.7038 - val_accuracy: 0.6658\n",
      "Epoch 2/10\n",
      "333/333 [==============================] - 114s 344ms/step - loss: 0.4802 - accuracy: 0.7882 - val_loss: 0.7313 - val_accuracy: 0.6583\n",
      "Epoch 3/10\n",
      "333/333 [==============================] - 114s 343ms/step - loss: 0.4680 - accuracy: 0.7943 - val_loss: 0.7016 - val_accuracy: 0.6642\n",
      "Epoch 4/10\n",
      "333/333 [==============================] - 115s 347ms/step - loss: 0.4641 - accuracy: 0.7981 - val_loss: 0.7737 - val_accuracy: 0.6620\n",
      "Epoch 5/10\n",
      "333/333 [==============================] - 113s 340ms/step - loss: 0.4593 - accuracy: 0.7989 - val_loss: 0.8558 - val_accuracy: 0.6631\n",
      "Epoch 6/10\n",
      "333/333 [==============================] - 114s 343ms/step - loss: 0.4508 - accuracy: 0.8029 - val_loss: 0.7756 - val_accuracy: 0.6668\n",
      "Epoch 7/10\n",
      "333/333 [==============================] - 111s 335ms/step - loss: 0.4524 - accuracy: 0.8022 - val_loss: 0.8328 - val_accuracy: 0.6636\n",
      "Epoch 8/10\n",
      "333/333 [==============================] - 111s 334ms/step - loss: 0.4389 - accuracy: 0.8102 - val_loss: 0.7709 - val_accuracy: 0.6663\n",
      "Epoch 9/10\n",
      "333/333 [==============================] - 121s 363ms/step - loss: 0.4466 - accuracy: 0.8044 - val_loss: 0.7007 - val_accuracy: 0.6642\n",
      "Epoch 10/10\n",
      "333/333 [==============================] - 114s 342ms/step - loss: 0.4421 - accuracy: 0.8036 - val_loss: 0.7673 - val_accuracy: 0.6685\n"
     ]
    }
   ],
   "source": [
    "history = model.fit(\n",
    "    train_datagen.flow(X, y, batch_size=batch_size),\n",
    "    validation_data=(X_val, y_val),\n",
    "    steps_per_epoch=len(X) // batch_size,\n",
    "    epochs=epochs,\n",
    "    verbose=1\n",
    ")\n"
   ]
  },
  {
   "cell_type": "code",
   "execution_count": 26,
   "metadata": {},
   "outputs": [],
   "source": [
    "model.save('mobilnetv2_leukemia_model.h5')"
   ]
  },
  {
   "cell_type": "code",
   "execution_count": 27,
   "metadata": {},
   "outputs": [
    {
     "name": "stdout",
     "output_type": "stream",
     "text": [
      "59/59 [==============================] - 13s 193ms/step - loss: 0.7673 - accuracy: 0.6685\n",
      "Validation Accuracy: 66.85%\n"
     ]
    }
   ],
   "source": [
    "from tensorflow.keras.models import load_model\n",
    "\n",
    "model = load_model('mobilnetv2_leukemia_model.h5')\n",
    "\n",
    "val_loss, val_accuracy = model.evaluate(X_val, y_val)\n",
    "\n",
    "print(f\"Validation Accuracy: {val_accuracy * 100:.2f}%\")"
   ]
  }
 ],
 "metadata": {
  "kernelspec": {
   "display_name": "Python 3",
   "language": "python",
   "name": "python3"
  },
  "language_info": {
   "codemirror_mode": {
    "name": "ipython",
    "version": 3
   },
   "file_extension": ".py",
   "mimetype": "text/x-python",
   "name": "python",
   "nbconvert_exporter": "python",
   "pygments_lexer": "ipython3",
   "version": "3.11.4"
  },
  "orig_nbformat": 4
 },
 "nbformat": 4,
 "nbformat_minor": 2
}
